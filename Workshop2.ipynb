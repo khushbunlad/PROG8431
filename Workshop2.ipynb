{
 "cells": [
  {
   "cell_type": "markdown",
   "metadata": {},
   "source": [
    "# AI Powered Recipe Recommendation System \n",
    "\n",
    "### Team : Group 3\n",
    "| Student No  | First Name                  | Last Name     |\n",
    "|-------------|-----------------------------|---------------|\n",
    "| 9041129     | Nidhi                       | Ahir          |\n",
    "| 9016986     | Keerthi                     | Gonuguntla    |\n",
    "| 9027375     | Khushbu                     | Lad           |\n"
   ]
  },
  {
   "cell_type": "markdown",
   "metadata": {},
   "source": [
    "## Configuration and procedure to run code\n",
    "\n",
    "### Project and environment setup\n",
    "\n",
    "1. Move to project directory \"PROG8431\" where you have cloned the project\n",
    "2. Create virtual environment with name **\"venvPROG8431\"**\n",
    "    - Make sure ```python --version``` is set to **12.3.6** in your system\n",
    "    - ```python -m venv venvPROG8431```\n",
    "3. Activate environment\n",
    "    - ```.\\venvPROG8431\\Scripts\\Activate.ps1```\n",
    "    - In case you are using visual studio code, Choose the environment from menu as active environment\n",
    "4. Install packages mentioned in **\"requirements.txt\"**\n",
    "    - ```pip install -r requirements.txt```\n",
    "5. Select **\"venvPROG8431\"** environment in your IDE\n",
    "6. Create folder named **\"Dataset\"** in your project directory\n",
    "7. Move all files downloaded from Kaggle dataset in the \"Dataset\" Directory\n",
    "8. Open \"Workshop1.ipynb\" and run first program snippet. \n",
    "9. It should display top 5 rows from file \"RAW_recipe.csv\"\n",
    "\n",
    "\n",
    "### Update Requirements.txt file once installing new packages\n",
    "\n",
    "```pip freeze > requirements.txt```"
   ]
  },
  {
   "cell_type": "markdown",
   "metadata": {},
   "source": [
    "### Import Packages"
   ]
  },
  {
   "cell_type": "code",
   "execution_count": 48,
   "metadata": {},
   "outputs": [],
   "source": [
    "import pandas as pd\n",
    "from scipy.stats import shapiro\n",
    "import math\n",
    "import numpy as np\n",
    "import scipy.stats as stats\n",
    "import matplotlib.pyplot as plt\n"
   ]
  },
  {
   "cell_type": "markdown",
   "metadata": {},
   "source": [
    "### Read data from source : RAW_recipe.csv"
   ]
  },
  {
   "cell_type": "code",
   "execution_count": 49,
   "metadata": {},
   "outputs": [
    {
     "name": "stdout",
     "output_type": "stream",
     "text": [
      "---> STEP 1 : Loads the data from a CSV file. \n",
      "\n",
      "RAW_recipes.csv : Data loaded successfully.\n",
      "Total Records : 231637 \n",
      "\n",
      "---> STEP 2 : Null Check for data \n",
      "\n",
      "name                 1\n",
      "id                   0\n",
      "minutes              0\n",
      "contributor_id       0\n",
      "submitted            0\n",
      "tags                 0\n",
      "nutrition            0\n",
      "n_steps              0\n",
      "steps                0\n",
      "description       4979\n",
      "ingredients          0\n",
      "n_ingredients        0\n",
      "dtype: int64\n",
      "\n",
      "---> STEP 3 : Duplicate data Check for name \n",
      "\n",
      "                             Recepe Name  Count\n",
      "0          cream cheese banana nut bread      3\n",
      "1                cranberry orange relish      3\n",
      "2          banana chocolate chip muffins      3\n",
      "3             brown sugar glazed carrots      3\n",
      "4     gluten free chocolate chip cookies      3\n",
      "...                                  ...    ...\n",
      "1425     zucchini chocolate chip muffins      2\n",
      "1426               zucchini cilantro dip      2\n",
      "1427                 zucchini lime bread      2\n",
      "1428                  zucchini oat bread      2\n",
      "1429              zucchini salsa  canned      2\n",
      "\n",
      "[1430 rows x 2 columns]\n"
     ]
    }
   ],
   "source": [
    "class RawRecipe:\n",
    "    def __init__(self):\n",
    "        self.file_path = './Dataset/RAW_recipes.csv'\n",
    "        self.data = None\n",
    "    \n",
    "    # Loads the data from a CSV file.\n",
    "    def load_data(self):\n",
    "        self.data = pd.read_csv(self.file_path)\n",
    "        print(f\"---> STEP 1 : Loads the data from a CSV file. \\r\\n\")\n",
    "        print(f\"RAW_recipes.csv : Data loaded successfully.\")\n",
    "        print(f\"Total Records : {self.data.shape[0]} \\r\\n\")\n",
    "        return self.data\n",
    "    \n",
    "    # Data quality : Null Check\n",
    "    def check_null_values(self):\n",
    "        print(f\"---> STEP 2 : Null Check for data \\r\\n\")\n",
    "        if self.data is not None:\n",
    "            nulls = self.data.isnull().sum()\n",
    "            print(nulls)\n",
    "            return nulls\n",
    "        else:\n",
    "            print(\"Data not loaded.\")\n",
    "\n",
    "    # Data quality : Duplicate Check\n",
    "    def check_duplicate_values(self):\n",
    "        print(f\"\\r\\n---> STEP 3 : Duplicate data Check for name \\r\\n\")\n",
    "        if self.data is not None:\n",
    "            counts = self.data[\"name\"].value_counts()\n",
    "            dupl = (counts[counts>1]).reset_index()\n",
    "            dupl.columns = [\"Recepe Name\", \"Count\"]\n",
    "            print(dupl)\n",
    "            return dupl\n",
    "        else:\n",
    "            print(\"Data not loaded.\")\n",
    "\n",
    "    \n",
    "if __name__ == \"__main__\":\n",
    "\n",
    "    # Create an instance of the DataAnalytics class\n",
    "    recepeData = RawRecipe()\n",
    "    \n",
    "    # Load data\n",
    "    recepeData.load_data()\n",
    "\n",
    "    # Check for missing values\n",
    "    recepeData.check_null_values()\n",
    "\n",
    "    recepeData.check_duplicate_values()"
   ]
  },
  {
   "cell_type": "markdown",
   "metadata": {},
   "source": [
    "### Data Cleanup\n",
    "\n",
    "1. Dataset contains \"null\" values in only \"description\" column which is not mandatory data which affects our analysis\n",
    "2. There is 1 null value in \"name\" column that we will be eliminating while performing other operations\n",
    "3. Duplicate check does not apply in Minutes, number of steps, nunber of ingrediants and ingrediants columns in dataset because it does not give any valuable insights\n",
    "4. 1429 recepe names were repeated in dataset. This means we have multiple recepe to prepare one item.\n"
   ]
  },
  {
   "cell_type": "markdown",
   "metadata": {},
   "source": [
    "### QQ Normal Plot\n"
   ]
  },
  {
   "cell_type": "code",
   "execution_count": 50,
   "metadata": {},
   "outputs": [
    {
     "data": {
      "image/png": "[encoded data removed]",
      "text/plain": [
       "<Figure size 600x400 with 1 Axes>"
      ]
     },
     "metadata": {},
     "output_type": "display_data"
    },
    {
     "data": {
      "image/png": "[encoded data removed]",
      "text/plain": [
       "<Figure size 600x400 with 1 Axes>"
      ]
     },
     "metadata": {},
     "output_type": "display_data"
    }
   ],
   "source": [
    "ingrediant_count = recepeData.data[\"n_ingredients\"]  # Replace with your column\n",
    "minutes_count = recepeData.data[\"minutes\"]\n",
    "\n",
    "def create_qq_plot(data, title, line_color, line_width, point_color, point_size):\n",
    "    (osm, osr), (slope, intercept, r) = stats.probplot(data, dist=\"norm\")\n",
    "    plt.figure(figsize=(6, 4))\n",
    "    plt.scatter(osm, osr, color=point_color, s=point_size, label='Data Points')  # Plot the data points\n",
    "    plt.plot(osm, slope * osm + intercept, color=line_color, lw=line_width, label='Fit Line')  # Plot the line\n",
    "    plt.title(f'QQ Plot of {title}')\n",
    "    plt.xlabel('Theoretical Quantiles')\n",
    "    plt.ylabel('Sample Quantiles')\n",
    "    plt.legend()\n",
    "    plt.grid(True)\n",
    "    plt.show()\n",
    "\n",
    "# QQ Plot for Number of Ingredients\n",
    "create_qq_plot(ingrediant_count, 'Number of Ingredients',\"blue\",2,\"skyblue\",2)\n",
    "\n",
    "# QQ Plot for Preparation Time\n",
    "create_qq_plot(minutes_count, 'Preparation Time',\"red\",1,\"yellow\",5)"
   ]
  },
  {
   "cell_type": "markdown",
   "metadata": {},
   "source": [
    "#### Summary\n",
    "\n",
    "1. Number of ingrediants : indicates middle portion of the data is is following normal destribution whereas recipes with more ingrediants creating skew \n",
    "2. Preperation time : The plot shows that data for prepation time is normaly destributed as data points are overlapping the fitline."
   ]
  },
  {
   "cell_type": "markdown",
   "metadata": {},
   "source": [
    "### Z-Score"
   ]
  },
  {
   "cell_type": "code",
   "execution_count": 51,
   "metadata": {},
   "outputs": [
    {
     "name": "stdout",
     "output_type": "stream",
     "text": [
      "Z-Score for the steps\n",
      "  ShapiroResult(statistic=np.float64(0.8698185219400804), pvalue=np.float64(7.208515052978634e-138))\n"
     ]
    },
    {
     "name": "stderr",
     "output_type": "stream",
     "text": [
      "d:\\Conestoga\\PROG8431-DAM\\PROG8431\\venvPROG8431\\Lib\\site-packages\\scipy\\stats\\_axis_nan_policy.py:573: UserWarning: scipy.stats.shapiro: For N > 5000, computed p-value may not be accurate. Current N is 231637.\n",
      "  res = hypotest_fun_out(*samples, **kwds)\n"
     ]
    }
   ],
   "source": [
    "Zscore_steps = shapiro(recepeData.data['n_steps'])\n",
    "print(f\"Z-Score for the steps\\n \",Zscore_steps)"
   ]
  },
  {
   "cell_type": "markdown",
   "metadata": {},
   "source": [
    "#### Summary\n",
    "The Z-score expresses the number of standard deviations (n_steps) that a particular number of steps deviates from the dataset mean. To determine if n_steps is above or below average for the dataset, subtract the mean from n_steps and divide the result by the standard deviation."
   ]
  },
  {
   "cell_type": "markdown",
   "metadata": {},
   "source": [
    "### T-score"
   ]
  },
  {
   "cell_type": "code",
   "execution_count": 52,
   "metadata": {},
   "outputs": [
    {
     "name": "stdout",
     "output_type": "stream",
     "text": [
      "T-score for n_steps: 783.9709415505705\n"
     ]
    }
   ],
   "source": [
    "sample_mean = recepeData.data['n_steps'].mean()\n",
    "sample_std = recepeData.data['n_steps'].std()\n",
    "n = len(recepeData.data['n_steps'])\n",
    "\n",
    "# Specify the population mean (change as necessary)\n",
    "population_mean = 0  # Update this to your population mean\n",
    "\n",
    "# Calculate the t-score\n",
    "t_score = (sample_mean - population_mean) / (sample_std / np.sqrt(n))\n",
    "\n",
    "print(f\"T-score for {'n_steps'}: {t_score}\")"
   ]
  },
  {
   "cell_type": "markdown",
   "metadata": {},
   "source": [
    "#### Summary\n",
    "A statistical tool called the t-score can be used to calculate the standard deviation of the difference between a sample mean and the population mean. It is utilized in hypothesis testing, particularly in cases when the sample size is small or the population standard deviation is unknown, to ascertain whether the differences between groups are significant."
   ]
  },
  {
   "cell_type": "markdown",
   "metadata": {},
   "source": [
    "### Shapiro-Wilk Normality Test"
   ]
  },
  {
   "cell_type": "code",
   "execution_count": 53,
   "metadata": {},
   "outputs": [
    {
     "name": "stdout",
     "output_type": "stream",
     "text": [
      "Shapiro-Wilk Test Statistic: 0.9658002720462433\n",
      "p-value: 0.8494129678647864\n",
      "The dataset appears to be normally distributed.\n"
     ]
    }
   ],
   "source": [
    "# Load your dataset (replace with your own data)\n",
    "dataset = np.array([23, 11, 18, 25, 9, 26, 17, 20, 16, 14, np.nan, np.inf])\n",
    "\n",
    "# Clean the dataset by removing NaN and infinite values\n",
    "cleaned_dataset = dataset[~np.isnan(dataset) & ~np.isinf(dataset)]\n",
    "\n",
    "if len(cleaned_dataset) < 3:\n",
    "    print(\"The dataset is too small for the Shapiro-Wilk test after cleaning.\")\n",
    "else:\n",
    "    # Perform the Shapiro-Wilk Normality Test\n",
    "    stat, p = shapiro(cleaned_dataset)\n",
    "\n",
    "    print(\"Shapiro-Wilk Test Statistic:\", stat)\n",
    "    print(\"p-value:\", p)\n",
    "\n",
    "    if p > 0.05:\n",
    "        print(\"The dataset appears to be normally distributed.\")\n",
    "    else:\n",
    "        print(\"The dataset does not appear to be normally distributed.\")"
   ]
  },
  {
   "cell_type": "markdown",
   "metadata": {},
   "source": [
    "#### Summary\n",
    "\n",
    "The p-value of 0.8494 obtained from the Shapiro-Wilk test is greater than the significance level of 0.05. This implies that the normality null hypothesis cannot be disproved, suggesting that the dataset has a normal distribution. Proper for parametric statistical analysis, the high p-value validates the assumption of normality."
   ]
  }
 ],
 "metadata": {
  "kernelspec": {
   "display_name": "venvPROG8431",
   "language": "python",
   "name": "python3"
  },
  "language_info": {
   "codemirror_mode": {
    "name": "ipython",
    "version": 3
   },
   "file_extension": ".py",
   "mimetype": "text/x-python",
   "name": "python",
   "nbconvert_exporter": "python",
   "pygments_lexer": "ipython3",
   "version": "3.12.6"
  }
 },
 "nbformat": 4,
 "nbformat_minor": 2
}
