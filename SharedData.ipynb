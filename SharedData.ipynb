{
 "cells": [
  {
   "attachments": {},
   "cell_type": "markdown",
   "metadata": {},
   "source": [
    "### Dataset Reference\n",
    "\n",
    "[Kaggle Reference Dataset](https://www.kaggle.com/datasets/shuyangli94/food-com-recipes-and-user-interactions)\n",
    "\n",
    "### Prompt Reference\n",
    "\n",
    "[ChatGPT Prompt](https://chatgpt.com/share/b01801a0-5371-4e0e-bfee-1355002bac6c)\n",
    "\n"
   ]
  }
 ],
 "metadata": {
  "language_info": {
   "name": "python"
  },
  "orig_nbformat": 4
 },
 "nbformat": 4,
 "nbformat_minor": 2
}
