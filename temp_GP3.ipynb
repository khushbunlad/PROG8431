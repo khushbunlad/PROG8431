{
 "cells": [
  {
   "cell_type": "markdown",
   "metadata": {},
   "source": [
    "### Reviews "
   ]
  },
  {
   "cell_type": "code",
   "execution_count": null,
   "metadata": {},
   "outputs": [],
   "source": [
    "\n",
    "# Group by 'date' and count the number of reviews for each date\n",
    "reviews_per_date = processed_data.groupby('year').size()  # size() counts the number of occurrences (i.e., reviews)\n",
    "reviews_per_month = processed_data.groupby('month').size().reset_index(name='review_count')\n",
    "\n",
    "# Create a time series plot\n",
    "plt.figure(figsize=(100, 6))\n",
    "plt.plot(reviews_per_month['month'].astype(str), reviews_per_month['review_count'], marker='o', color='g', label='Average Reviews per Month', linewidth=1.5, markersize=4)\n",
    "\n",
    "# Add labels and title\n",
    "plt.xlabel('Month')\n",
    "plt.ylabel('Average Number of Reviews')\n",
    "plt.title('Average Number of Reviews Per Month')\n",
    "plt.grid(True)\n",
    "plt.xticks(rotation=45)  # Rotate x-axis labels for better readability\n",
    "plt.legend()\n",
    "\n",
    "# Display the plot\n",
    "plt.show()\n"
   ]
  }
 ],
 "metadata": {
  "kernelspec": {
   "display_name": "venvPROG8431",
   "language": "python",
   "name": "python3"
  },
  "language_info": {
   "name": "python",
   "version": "3.12.6"
  }
 },
 "nbformat": 4,
 "nbformat_minor": 2
}
