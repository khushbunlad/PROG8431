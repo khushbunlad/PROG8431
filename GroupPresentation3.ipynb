{
 "cells": [
  {
   "cell_type": "markdown",
   "metadata": {},
   "source": [
    "## Data Analysis Mathematics, Algorithms and Modeling\n",
    "\n",
    "# AI Powered Recipe Recommendation System \n",
    "\n",
    "### Team : Group 3\n",
    "| Student No  | First Name                  | Last Name     |\n",
    "|-------------|-----------------------------|---------------|\n",
    "| 9041129     | Nidhi                       | Ahir          |\n",
    "| 9016986     | Keerthi                     | Gonuguntla    |\n",
    "| 9027375     | Khushbu                     | Lad           |"
   ]
  },
  {
   "cell_type": "markdown",
   "metadata": {},
   "source": [
    "#### Introduction\n",
    "\n",
    "In the next phase of recepe recommandation system, Data related to user feedback and rating are taken into consideration with the existing recepe data with a view to identify insights about user's preferences and engagement with the recepe. This will help to identify corelation between recepe characteristics and user preferences "
   ]
  },
  {
   "cell_type": "markdown",
   "metadata": {},
   "source": [
    "### Dataset & Programming Requirements"
   ]
  },
  {
   "cell_type": "markdown",
   "metadata": {},
   "source": [
    "##### Ractangular Dataset : files\n",
    "1. Raw_recepes.csv\n",
    "2. Raw_interaction.csv"
   ]
  },
  {
   "cell_type": "markdown",
   "metadata": {},
   "source": [
    "##### Import Libraries"
   ]
  },
  {
   "cell_type": "code",
   "execution_count": 56,
   "metadata": {},
   "outputs": [],
   "source": [
    "import numpy as np\n",
    "import pandas as pd \n",
    "from scipy import stats\n",
    "import matplotlib.pyplot as plt\n",
    "import matplotlib.dates as mdates\n",
    "import scipy.stats as zscore"
   ]
  },
  {
   "cell_type": "markdown",
   "metadata": {},
   "source": [
    "##### RawRecipe : Dataset in classes and methods"
   ]
  },
  {
   "cell_type": "code",
   "execution_count": 57,
   "metadata": {},
   "outputs": [],
   "source": [
    "class RawRecipe:\n",
    "    def __init__(self):\n",
    "        self.file_path = './Dataset/RAW_recipes.csv'\n",
    "        self.data = None\n",
    "    \n",
    "    # Loads the data from a CSV file.\n",
    "    def load_data(self):\n",
    "        self.data = pd.read_csv(self.file_path)\n",
    "        print(f\"---> STEP 1 : Loads the data from a CSV file. \\r\\n\")\n",
    "        print(f\"RAW_recipes.csv : Data loaded successfully.\")\n",
    "        print(f\"Total Records : {self.data.shape[0]} \\r\\n\")\n",
    "        return self.data"
   ]
  },
  {
   "cell_type": "markdown",
   "metadata": {},
   "source": [
    "##### RAW_interactions : Dataset in classes and methods"
   ]
  },
  {
   "cell_type": "code",
   "execution_count": 58,
   "metadata": {},
   "outputs": [],
   "source": [
    "class RecepeInteraction:\n",
    "    def __init__(self):\n",
    "        self.file_path = './Dataset/RAW_interactions.csv'\n",
    "        self.data = None\n",
    "    \n",
    "    # Loads the data from a CSV file.\n",
    "    def load_data(self):\n",
    "        self.data = pd.read_csv(self.file_path)\n",
    "        print(f\"---> STEP 1 : Loads the data from a CSV file. \\r\\n\")\n",
    "        print(f\"RAW_interactions.csv : Data loaded successfully.\")\n",
    "        print(f\"Total Records : {self.data.shape[0]} \\r\\n\")\n",
    "        return self.data\n",
    "    \n",
    "    def view_sample_data(self):\n",
    "        self.data.head(5)\n",
    "\n",
    "    # Data quality : Null Check\n",
    "    def check_null_values(self):\n",
    "        print(f\"---> STEP 2 : Null Check for data \\r\\n\")\n",
    "        if self.data is not None:\n",
    "            nulls = self.data.isnull().sum()\n",
    "            print(nulls)\n",
    "            return nulls\n",
    "        else:\n",
    "            print(\"Data not loaded.\")\n",
    "     # Data quality : Duplicate Check\n",
    "    def check_duplicate_values(self):\n",
    "        print(f\"\\r\\n---> STEP 3 : Duplicate data Check for recepe \\r\\n\")\n",
    "        if self.data is not None:\n",
    "            counts = self.data[\"recipe_id\"].value_counts()\n",
    "            dupl = (counts[counts>1]).reset_index()\n",
    "            dupl.columns = [\"recipe_id\", \"Count\"]\n",
    "            print(dupl)\n",
    "            return dupl\n",
    "        else:\n",
    "            print(\"Data not loaded.\")"
   ]
  },
  {
   "cell_type": "markdown",
   "metadata": {},
   "source": [
    "#### The main function : Initialise class objects & load data"
   ]
  },
  {
   "cell_type": "code",
   "execution_count": null,
   "metadata": {},
   "outputs": [],
   "source": [
    "if __name__ == \"__main__\":\n",
    "\n",
    "    # Create an instance of the RecepeInteraction  class and load data\n",
    "    interactionData = RecepeInteraction()\n",
    "    interactionData.load_data()\n",
    "\n",
    "    # Create an instance of the RecepeInteraction  class and load data\n",
    "    recepeData = RawRecipe()\n",
    "    recepeData.load_data()"
   ]
  },
  {
   "cell_type": "markdown",
   "metadata": {},
   "source": [
    "#### Merge dataset based on recepe Id"
   ]
  },
  {
   "cell_type": "code",
   "execution_count": null,
   "metadata": {},
   "outputs": [],
   "source": [
    "# Merge data using common field recepe Id\n",
    "merged_data = pd.merge(recepeData.data, interactionData.data, left_on='id', right_on='recipe_id')\n",
    "print(\"Data Merged Successfully\")\n",
    "merged_data.head(2)"
   ]
  },
  {
   "cell_type": "markdown",
   "metadata": {},
   "source": [
    "### Data Preprocessing"
   ]
  },
  {
   "cell_type": "code",
   "execution_count": null,
   "metadata": {},
   "outputs": [],
   "source": [
    "# Count nutrition for recepe\n",
    "merged_data['n_nutrition'] = merged_data['nutrition'].apply(lambda x: len(x))\n",
    "# Convert date into datetime format of python\n",
    "merged_data['date'] = pd.to_datetime(merged_data['date'])\n",
    "# Differentiate year from date\n",
    "merged_data['year'] = merged_data['date'].dt.to_period('Y')\n",
    "# Differentiate year with month from date\n",
    "merged_data['month'] = merged_data['date'].dt.to_period('M')\n",
    "\n",
    "# Sort data with date\n",
    "processed_data = merged_data.sort_values(by='date')\n",
    "\n",
    "processed_data.head(2)"
   ]
  },
  {
   "cell_type": "markdown",
   "metadata": {},
   "source": [
    "### Use Case \n",
    "Tracking Individual Recipe Choices for Nutritional Consciousness Over Time\n",
    "We have mapped user review data (including nutritional information) to recipe characteristics span from 2000 to 2018. The objective is to figure out whether individuals have grown more health-conscious over time, particularly by examining the nutritional choices they make in recipes.\n",
    "\n",
    "***Hypotheses Null Hypothesis:*** As a result of increased nutritional awareness in the recipes people choose, people have grown more health-conscious throughout time. Put another way, as time passes on, users are consuming meals that are higher in nutrients.\n",
    "\n",
    "***Hypothesis Alternative:*** There has been no discernible improvement in the nutritional content of people's recipe selections. There hasn't been a rise in the nutritional content of the recipes people eat over time."
   ]
  },
  {
   "cell_type": "markdown",
   "metadata": {},
   "source": [
    "#### Nutrition consumption vs time between 2000 to 2018"
   ]
  },
  {
   "cell_type": "code",
   "execution_count": null,
   "metadata": {},
   "outputs": [],
   "source": [
    "\n",
    "# Calculate average number of nutritioan by date\n",
    "average_nutrition_by_date = processed_data.groupby('date')['n_nutrition'].mean()\n",
    "\n",
    "# Set the figure size\n",
    "plt.figure(figsize=(20, 6))\n",
    "\n",
    "# Scatter plot for n_nutrition vs. date\n",
    "plt.scatter(processed_data['date'], processed_data['n_nutrition'], color='g', label='Nutrition', alpha=0.5, s=1)\n",
    "\n",
    "# Plot the average number of Nutrition over time\n",
    "plt.plot(average_nutrition_by_date.index, average_nutrition_by_date, color='r', label='Average Nutrition', linewidth=0.8)\n",
    "\n",
    "# Add labels and title\n",
    "plt.xlabel('Date')\n",
    "plt.ylabel('Nutrition / Average Nutrition')\n",
    "plt.title('Nutrition / Average Nutrition between 2000 to 2018')\n",
    "plt.grid(True)\n",
    "plt.legend()\n",
    "\n",
    "# Display the plot\n",
    "plt.show()"
   ]
  },
  {
   "cell_type": "markdown",
   "metadata": {},
   "source": [
    "#### Neutirition time series"
   ]
  },
  {
   "cell_type": "code",
   "execution_count": null,
   "metadata": {},
   "outputs": [],
   "source": [
    "df2 = processed_data\n",
    "# Convert 'date' column to Period format for monthly grouping\n",
    "df2['date'] = df2['date'].dt.to_period('M')\n",
    "\n",
    "# Group by 'date' and count the number of reviews (or steps) for each month\n",
    "steps_per_month = df2.groupby('date').size().reset_index(name='n_nutrition')\n",
    "\n",
    "# Convert the 'date' column back to timestamp for plotting\n",
    "steps_per_month['date'] = steps_per_month['date'].dt.to_timestamp()\n",
    "\n",
    "# Create a time series plot\n",
    "plt.figure(figsize=(36, 10))\n",
    "plt.plot(steps_per_month['date'], steps_per_month['n_nutrition'], marker='o', color='g', label='Average Steps per Month', linewidth=1.5, markersize=4)\n",
    "\n",
    "# Highlight the specified months (August to January)\n",
    "for year in range(2000, 2019):\n",
    "    plt.axvspan(pd.Timestamp(f'{year}-08-01'), pd.Timestamp(f'{year}-12-31'), color='yellow', alpha=0.3)\n",
    "\n",
    "plt.gca().xaxis.set_major_locator(mdates.YearLocator())  # Locator to display every year\n",
    "plt.gca().xaxis.set_major_formatter(mdates.DateFormatter('%Y'))  # Format the ticks to show year only\n",
    "\n",
    "\n",
    "# Add labels and title\n",
    "plt.xlabel('Year')\n",
    "plt.ylabel('Number of n_nutrition')\n",
    "plt.title('Number of Nutrition per Month')\n",
    "plt.grid(True)\n",
    "plt.xticks(rotation=45)  # Rotate x-axis labels for better readability\n",
    "plt.legend()\n",
    "\n",
    "# Display the plot\n",
    "plt.show()\n"
   ]
  },
  {
   "cell_type": "code",
   "execution_count": null,
   "metadata": {},
   "outputs": [],
   "source": []
  }
 ],
 "metadata": {
  "kernelspec": {
   "display_name": "venvPROG8431",
   "language": "python",
   "name": "python3"
  },
  "language_info": {
   "codemirror_mode": {
    "name": "ipython",
    "version": 3
   },
   "file_extension": ".py",
   "mimetype": "text/x-python",
   "name": "python",
   "nbconvert_exporter": "python",
   "pygments_lexer": "ipython3",
   "version": "3.12.6"
  }
 },
 "nbformat": 4,
 "nbformat_minor": 2
}
