{
 "cells": [
  {
   "cell_type": "markdown",
   "metadata": {},
   "source": [
    "## Data Analysis Mathematics, Algorithms and Modeling\n",
    "\n",
    "# AI Powered Recipe Recommendation System \n",
    "\n",
    "### Team : Group 3\n",
    "| Student No  | First Name                  | Last Name     |\n",
    "|-------------|-----------------------------|---------------|\n",
    "| 9041129     | Nidhi                       | Ahir          |\n",
    "| 9016986     | Keerthi                     | Gonuguntla    |\n",
    "| 9027375     | Khushbu                     | Lad           |"
   ]
  },
  {
   "cell_type": "markdown",
   "metadata": {},
   "source": [
    "#### Introduction\n",
    "\n",
    "The relationship between a recipe number of ingredients (n_ingredients) and steps (n_steps) is examined in this analysis. We evaluate if recipes with additional ingredients need more steps using linear regression. In order to determine how well the data fits the model, the study focuses on assessing the model's reliability using Homoscedasticity and R-squared measurements."
   ]
  },
  {
   "cell_type": "markdown",
   "metadata": {},
   "source": [
    "### Dataset & Programming Requirements"
   ]
  },
  {
   "cell_type": "markdown",
   "metadata": {},
   "source": [
    "##### Ractangular Dataset : files\n",
    "1. Raw_recepes.csv\n",
    "2. Raw_interaction.csv"
   ]
  },
  {
   "cell_type": "markdown",
   "metadata": {},
   "source": [
    "##### Import Libraries"
   ]
  },
  {
   "cell_type": "code",
   "execution_count": 9,
   "metadata": {},
   "outputs": [],
   "source": [
    "import numpy as np\n",
    "import pandas as pd \n",
    "from scipy import stats\n",
    "import matplotlib.pyplot as plt\n",
    "import matplotlib.dates as mdates\n",
    "import scipy.stats as zscore\n",
    "from statsmodels.tsa.seasonal import seasonal_decompose\n",
    "import matplotlib as mpl\n",
    "mpl.rcParams['agg.path.chunksize'] = 10000\n",
    "from sklearn.decomposition import PCA\n",
    "from sklearn.preprocessing import StandardScaler\n",
    "from sklearn.model_selection import train_test_split\n",
    "from sklearn.linear_model import LinearRegression\n",
    "from sklearn.metrics import mean_squared_error, r2_score\n",
    "import datetime\n",
    "from sklearn.pipeline import make_pipeline\n",
    "from sklearn.preprocessing import PolynomialFeatures\n",
    "import statsmodels.api as sm\n",
    "from sklearn.metrics import accuracy_score, confusion_matrix, classification_report\n",
    "from sklearn.metrics import roc_curve, auc\n"
   ]
  },
  {
   "cell_type": "markdown",
   "metadata": {},
   "source": [
    "##### RawRecipe : Dataset in classes and methods"
   ]
  },
  {
   "cell_type": "code",
   "execution_count": 10,
   "metadata": {},
   "outputs": [],
   "source": [
    "class RawRecipe:\n",
    "    def __init__(self):\n",
    "        self.file_path = './Dataset/RAW_recipes.csv'\n",
    "        self.data = None\n",
    "    \n",
    "    # Loads the data from a CSV file.\n",
    "    def load_data(self):\n",
    "        self.data = pd.read_csv(self.file_path)\n",
    "        print(f\"---> STEP 1 : Loads the data from a CSV file. \\r\\n\")\n",
    "        print(f\"RAW_recipes.csv : Data loaded successfully.\")\n",
    "        print(f\"Total Records : {self.data.shape[0]} \\r\\n\")\n",
    "        return self.data"
   ]
  },
  {
   "cell_type": "markdown",
   "metadata": {},
   "source": [
    "##### RAW_interactions : Dataset in classes and methods"
   ]
  },
  {
   "cell_type": "code",
   "execution_count": 11,
   "metadata": {},
   "outputs": [],
   "source": [
    "class RecepeInteraction:\n",
    "    def __init__(self):\n",
    "        self.file_path = './Dataset/RAW_interactions.csv'\n",
    "        self.data = None\n",
    "    \n",
    "    # Loads the data from a CSV file.\n",
    "    def load_data(self):\n",
    "        self.data = pd.read_csv(self.file_path)\n",
    "        print(f\"---> STEP 1 : Loads the data from a CSV file. \\r\\n\")\n",
    "        print(f\"RAW_interactions.csv : Data loaded successfully.\")\n",
    "        print(f\"Total Records : {self.data.shape[0]} \\r\\n\")\n",
    "        return self.data\n",
    "    \n",
    "    def view_sample_data(self):\n",
    "        self.data.head(5)\n",
    "\n",
    "    # Data quality : Null Check\n",
    "    def check_null_values(self):\n",
    "        print(f\"---> STEP 2 : Null Check for data \\r\\n\")\n",
    "        if self.data is not None:\n",
    "            nulls = self.data.isnull().sum()\n",
    "            print(nulls)\n",
    "            return nulls\n",
    "        else:\n",
    "            print(\"Data not loaded.\")\n",
    "     # Data quality : Duplicate Check\n",
    "    def check_duplicate_values(self):\n",
    "        print(f\"\\r\\n---> STEP 3 : Duplicate data Check for recepe \\r\\n\")\n",
    "        if self.data is not None:\n",
    "            counts = self.data[\"recipe_id\"].value_counts()\n",
    "            dupl = (counts[counts>1]).reset_index()\n",
    "            dupl.columns = [\"recipe_id\", \"Count\"]\n",
    "            print(dupl)\n",
    "            return dupl\n",
    "        else:\n",
    "            print(\"Data not loaded.\")"
   ]
  },
  {
   "cell_type": "markdown",
   "metadata": {},
   "source": [
    "#### The main function : Initialise class objects & load data"
   ]
  },
  {
   "cell_type": "code",
   "execution_count": 12,
   "metadata": {},
   "outputs": [
    {
     "name": "stdout",
     "output_type": "stream",
     "text": [
      "---> STEP 1 : Loads the data from a CSV file. \n",
      "\n",
      "RAW_interactions.csv : Data loaded successfully.\n",
      "Total Records : 1132367 \n",
      "\n",
      "---> STEP 1 : Loads the data from a CSV file. \n",
      "\n",
      "RAW_recipes.csv : Data loaded successfully.\n",
      "Total Records : 231637 \n",
      "\n"
     ]
    }
   ],
   "source": [
    "if __name__ == \"__main__\":\n",
    "\n",
    "    # Create an instance of the RecepeInteraction  class and load data\n",
    "    interactionData = RecepeInteraction()\n",
    "    interactionData.load_data()\n",
    "\n",
    "    # Create an instance of the RecepeInteraction  class and load data\n",
    "    recepeData = RawRecipe()\n",
    "    recepeData.load_data()"
   ]
  },
  {
   "cell_type": "markdown",
   "metadata": {},
   "source": [
    "#### Merge dataset based on recipe Id"
   ]
  },
  {
   "cell_type": "code",
   "execution_count": 13,
   "metadata": {},
   "outputs": [
    {
     "name": "stdout",
     "output_type": "stream",
     "text": [
      "Data Merged Successfully\n"
     ]
    },
    {
     "data": {
      "text/html": [
       "<div>\n",
       "<style scoped>\n",
       "    .dataframe tbody tr th:only-of-type {\n",
       "        vertical-align: middle;\n",
       "    }\n",
       "\n",
       "    .dataframe tbody tr th {\n",
       "        vertical-align: top;\n",
       "    }\n",
       "\n",
       "    .dataframe thead th {\n",
       "        text-align: right;\n",
       "    }\n",
       "</style>\n",
       "<table border=\"1\" class=\"dataframe\">\n",
       "  <thead>\n",
       "    <tr style=\"text-align: right;\">\n",
       "      <th></th>\n",
       "      <th>name</th>\n",
       "      <th>id</th>\n",
       "      <th>minutes</th>\n",
       "      <th>contributor_id</th>\n",
       "      <th>submitted</th>\n",
       "      <th>tags</th>\n",
       "      <th>nutrition</th>\n",
       "      <th>n_steps</th>\n",
       "      <th>steps</th>\n",
       "      <th>description</th>\n",
       "      <th>ingredients</th>\n",
       "      <th>n_ingredients</th>\n",
       "      <th>user_id</th>\n",
       "      <th>recipe_id</th>\n",
       "      <th>date</th>\n",
       "      <th>rating</th>\n",
       "      <th>review</th>\n",
       "    </tr>\n",
       "  </thead>\n",
       "  <tbody>\n",
       "    <tr>\n",
       "      <th>0</th>\n",
       "      <td>arriba   baked winter squash mexican style</td>\n",
       "      <td>137739</td>\n",
       "      <td>55</td>\n",
       "      <td>47892</td>\n",
       "      <td>2005-09-16</td>\n",
       "      <td>['60-minutes-or-less', 'time-to-make', 'course...</td>\n",
       "      <td>[51.5, 0.0, 13.0, 0.0, 2.0, 0.0, 4.0]</td>\n",
       "      <td>11</td>\n",
       "      <td>['make a choice and proceed with recipe', 'dep...</td>\n",
       "      <td>autumn is my favorite time of year to cook! th...</td>\n",
       "      <td>['winter squash', 'mexican seasoning', 'mixed ...</td>\n",
       "      <td>7</td>\n",
       "      <td>4470</td>\n",
       "      <td>137739</td>\n",
       "      <td>2006-02-18</td>\n",
       "      <td>5</td>\n",
       "      <td>I used an acorn squash and recipe#137681 Swee...</td>\n",
       "    </tr>\n",
       "    <tr>\n",
       "      <th>1</th>\n",
       "      <td>arriba   baked winter squash mexican style</td>\n",
       "      <td>137739</td>\n",
       "      <td>55</td>\n",
       "      <td>47892</td>\n",
       "      <td>2005-09-16</td>\n",
       "      <td>['60-minutes-or-less', 'time-to-make', 'course...</td>\n",
       "      <td>[51.5, 0.0, 13.0, 0.0, 2.0, 0.0, 4.0]</td>\n",
       "      <td>11</td>\n",
       "      <td>['make a choice and proceed with recipe', 'dep...</td>\n",
       "      <td>autumn is my favorite time of year to cook! th...</td>\n",
       "      <td>['winter squash', 'mexican seasoning', 'mixed ...</td>\n",
       "      <td>7</td>\n",
       "      <td>593927</td>\n",
       "      <td>137739</td>\n",
       "      <td>2010-08-21</td>\n",
       "      <td>5</td>\n",
       "      <td>This was a nice change. I used butternut squas...</td>\n",
       "    </tr>\n",
       "  </tbody>\n",
       "</table>\n",
       "</div>"
      ],
      "text/plain": [
       "                                         name      id  minutes  \\\n",
       "0  arriba   baked winter squash mexican style  137739       55   \n",
       "1  arriba   baked winter squash mexican style  137739       55   \n",
       "\n",
       "   contributor_id   submitted  \\\n",
       "0           47892  2005-09-16   \n",
       "1           47892  2005-09-16   \n",
       "\n",
       "                                                tags  \\\n",
       "0  ['60-minutes-or-less', 'time-to-make', 'course...   \n",
       "1  ['60-minutes-or-less', 'time-to-make', 'course...   \n",
       "\n",
       "                               nutrition  n_steps  \\\n",
       "0  [51.5, 0.0, 13.0, 0.0, 2.0, 0.0, 4.0]       11   \n",
       "1  [51.5, 0.0, 13.0, 0.0, 2.0, 0.0, 4.0]       11   \n",
       "\n",
       "                                               steps  \\\n",
       "0  ['make a choice and proceed with recipe', 'dep...   \n",
       "1  ['make a choice and proceed with recipe', 'dep...   \n",
       "\n",
       "                                         description  \\\n",
       "0  autumn is my favorite time of year to cook! th...   \n",
       "1  autumn is my favorite time of year to cook! th...   \n",
       "\n",
       "                                         ingredients  n_ingredients  user_id  \\\n",
       "0  ['winter squash', 'mexican seasoning', 'mixed ...              7     4470   \n",
       "1  ['winter squash', 'mexican seasoning', 'mixed ...              7   593927   \n",
       "\n",
       "   recipe_id        date  rating  \\\n",
       "0     137739  2006-02-18       5   \n",
       "1     137739  2010-08-21       5   \n",
       "\n",
       "                                              review  \n",
       "0   I used an acorn squash and recipe#137681 Swee...  \n",
       "1  This was a nice change. I used butternut squas...  "
      ]
     },
     "execution_count": 13,
     "metadata": {},
     "output_type": "execute_result"
    }
   ],
   "source": [
    "# Merge data using common field recepe Id\n",
    "merged_data = pd.merge(recepeData.data, interactionData.data, left_on='id', right_on='recipe_id')\n",
    "print(\"Data Merged Successfully\")\n",
    "merged_data.head(2)"
   ]
  },
  {
   "cell_type": "markdown",
   "metadata": {},
   "source": []
  },
  {
   "cell_type": "markdown",
   "metadata": {},
   "source": [
    "##### 1. In the our dataset, the nutrition column typically stores a list of nutritional values like numerical array in one column. Values are 'calories', 'total_fat', 'sugar', 'sodium', 'protein', 'saturated_fat', 'carbohydrates'. So first these columns needs to be separated."
   ]
  },
  {
   "cell_type": "code",
   "execution_count": 14,
   "metadata": {},
   "outputs": [
    {
     "data": {
      "text/html": [
       "<div>\n",
       "<style scoped>\n",
       "    .dataframe tbody tr th:only-of-type {\n",
       "        vertical-align: middle;\n",
       "    }\n",
       "\n",
       "    .dataframe tbody tr th {\n",
       "        vertical-align: top;\n",
       "    }\n",
       "\n",
       "    .dataframe thead th {\n",
       "        text-align: right;\n",
       "    }\n",
       "</style>\n",
       "<table border=\"1\" class=\"dataframe\">\n",
       "  <thead>\n",
       "    <tr style=\"text-align: right;\">\n",
       "      <th></th>\n",
       "      <th>name</th>\n",
       "      <th>id</th>\n",
       "      <th>minutes</th>\n",
       "      <th>contributor_id</th>\n",
       "      <th>submitted</th>\n",
       "      <th>tags</th>\n",
       "      <th>nutrition</th>\n",
       "      <th>n_steps</th>\n",
       "      <th>steps</th>\n",
       "      <th>description</th>\n",
       "      <th>...</th>\n",
       "      <th>rating</th>\n",
       "      <th>review</th>\n",
       "      <th>calories</th>\n",
       "      <th>total_fat</th>\n",
       "      <th>sugar</th>\n",
       "      <th>sodium</th>\n",
       "      <th>protein</th>\n",
       "      <th>saturated_fat</th>\n",
       "      <th>carbohydrates</th>\n",
       "      <th>popular</th>\n",
       "    </tr>\n",
       "  </thead>\n",
       "  <tbody>\n",
       "    <tr>\n",
       "      <th>0</th>\n",
       "      <td>arriba   baked winter squash mexican style</td>\n",
       "      <td>137739</td>\n",
       "      <td>55</td>\n",
       "      <td>47892</td>\n",
       "      <td>2005-09-16</td>\n",
       "      <td>['60-minutes-or-less', 'time-to-make', 'course...</td>\n",
       "      <td>[51.5, 0.0, 13.0, 0.0, 2.0, 0.0, 4.0]</td>\n",
       "      <td>11</td>\n",
       "      <td>['make a choice and proceed with recipe', 'dep...</td>\n",
       "      <td>autumn is my favorite time of year to cook! th...</td>\n",
       "      <td>...</td>\n",
       "      <td>5</td>\n",
       "      <td>I used an acorn squash and recipe#137681 Swee...</td>\n",
       "      <td>51.5</td>\n",
       "      <td>0.0</td>\n",
       "      <td>13.0</td>\n",
       "      <td>0.0</td>\n",
       "      <td>2.0</td>\n",
       "      <td>0.0</td>\n",
       "      <td>4.0</td>\n",
       "      <td>1</td>\n",
       "    </tr>\n",
       "    <tr>\n",
       "      <th>1</th>\n",
       "      <td>arriba   baked winter squash mexican style</td>\n",
       "      <td>137739</td>\n",
       "      <td>55</td>\n",
       "      <td>47892</td>\n",
       "      <td>2005-09-16</td>\n",
       "      <td>['60-minutes-or-less', 'time-to-make', 'course...</td>\n",
       "      <td>[51.5, 0.0, 13.0, 0.0, 2.0, 0.0, 4.0]</td>\n",
       "      <td>11</td>\n",
       "      <td>['make a choice and proceed with recipe', 'dep...</td>\n",
       "      <td>autumn is my favorite time of year to cook! th...</td>\n",
       "      <td>...</td>\n",
       "      <td>5</td>\n",
       "      <td>This was a nice change. I used butternut squas...</td>\n",
       "      <td>51.5</td>\n",
       "      <td>0.0</td>\n",
       "      <td>13.0</td>\n",
       "      <td>0.0</td>\n",
       "      <td>2.0</td>\n",
       "      <td>0.0</td>\n",
       "      <td>4.0</td>\n",
       "      <td>1</td>\n",
       "    </tr>\n",
       "  </tbody>\n",
       "</table>\n",
       "<p>2 rows × 25 columns</p>\n",
       "</div>"
      ],
      "text/plain": [
       "                                         name      id  minutes  \\\n",
       "0  arriba   baked winter squash mexican style  137739       55   \n",
       "1  arriba   baked winter squash mexican style  137739       55   \n",
       "\n",
       "   contributor_id   submitted  \\\n",
       "0           47892  2005-09-16   \n",
       "1           47892  2005-09-16   \n",
       "\n",
       "                                                tags  \\\n",
       "0  ['60-minutes-or-less', 'time-to-make', 'course...   \n",
       "1  ['60-minutes-or-less', 'time-to-make', 'course...   \n",
       "\n",
       "                               nutrition  n_steps  \\\n",
       "0  [51.5, 0.0, 13.0, 0.0, 2.0, 0.0, 4.0]       11   \n",
       "1  [51.5, 0.0, 13.0, 0.0, 2.0, 0.0, 4.0]       11   \n",
       "\n",
       "                                               steps  \\\n",
       "0  ['make a choice and proceed with recipe', 'dep...   \n",
       "1  ['make a choice and proceed with recipe', 'dep...   \n",
       "\n",
       "                                         description  ... rating  \\\n",
       "0  autumn is my favorite time of year to cook! th...  ...      5   \n",
       "1  autumn is my favorite time of year to cook! th...  ...      5   \n",
       "\n",
       "                                              review  calories  total_fat  \\\n",
       "0   I used an acorn squash and recipe#137681 Swee...      51.5        0.0   \n",
       "1  This was a nice change. I used butternut squas...      51.5        0.0   \n",
       "\n",
       "  sugar  sodium protein  saturated_fat  carbohydrates  popular  \n",
       "0  13.0     0.0     2.0            0.0            4.0        1  \n",
       "1  13.0     0.0     2.0            0.0            4.0        1  \n",
       "\n",
       "[2 rows x 25 columns]"
      ]
     },
     "execution_count": 14,
     "metadata": {},
     "output_type": "execute_result"
    }
   ],
   "source": [
    "nutrition_columns = ['calories', 'total_fat', 'sugar', 'sodium', 'protein', 'saturated_fat', 'carbohydrates']\n",
    "merged_data[nutrition_columns] = merged_data['nutrition'].str.strip('[]').str.split(',', expand=True)\n",
    "merged_data[nutrition_columns] = merged_data[nutrition_columns].apply(pd.to_numeric, errors='coerce')\n",
    "\n",
    "merged_data['popular'] = (merged_data['rating'] >= 4).astype(int)\n",
    "\n",
    "merged_data.head(2)"
   ]
  },
  {
   "cell_type": "markdown",
   "metadata": {},
   "source": [
    "### Probabilistic Reasoning"
   ]
  },
  {
   "cell_type": "markdown",
   "metadata": {},
   "source": [
    "Probabilistic reasoning is a type of logical reasoning that involves the use of probabilities to handle uncertainty in decision-making or inference processes. It is used to model and reason about situations where outcomes are uncertain or where incomplete information is available. \n",
    "#### Popularity Metric\n",
    "```popularity_score = rating × log( 1 + review_count )```"
   ]
  },
  {
   "cell_type": "code",
   "execution_count": 15,
   "metadata": {},
   "outputs": [
    {
     "data": {
      "text/plain": [
       "<bound method IndexOpsMixin.value_counts of 0           51.5\n",
       "1           51.5\n",
       "2           51.5\n",
       "3          173.4\n",
       "4          173.4\n",
       "           ...  \n",
       "1132362     59.2\n",
       "1132363    188.0\n",
       "1132364    174.9\n",
       "1132365    174.9\n",
       "1132366    174.9\n",
       "Name: calories, Length: 1132367, dtype: float64>"
      ]
     },
     "execution_count": 15,
     "metadata": {},
     "output_type": "execute_result"
    }
   ],
   "source": [
    "merged_data['calories'].value_counts\n",
    "\n",
    "# merged_data['calorie_range'] = pd.cut(merged_data['calories'], \n",
    "#                                 bins=[0, 200, 400, 600, 800, 1000,1200,1400,1600], \n",
    "#                                 labels=['0-200', '200-400', '400-600', '600-800', '800-1000','1000-1200','1200-1400','1400-1600'])\n",
    "# probabilities = merged_data.groupby('calorie_range')['popular'].mean()\n",
    "\n",
    "# plt.bar(probabilities.index, probabilities.values, color='skyblue')\n",
    "# plt.title('Probability of High Rating by Calorie Range')\n",
    "# plt.xlabel('Calorie Range')\n",
    "# plt.ylabel('Probability of High Rating')\n",
    "# plt.show()"
   ]
  },
  {
   "cell_type": "markdown",
   "metadata": {},
   "source": [
    " ### Logistic Classification"
   ]
  },
  {
   "cell_type": "code",
   "execution_count": 16,
   "metadata": {},
   "outputs": [
    {
     "name": "stdout",
     "output_type": "stream",
     "text": [
      "Optimization terminated successfully.\n",
      "         Current function value: 0.492930\n",
      "         Iterations 6\n"
     ]
    },
    {
     "data": {
      "image/png": "[encoded data removed]",
      "text/plain": [
       "<Figure size 800x600 with 1 Axes>"
      ]
     },
     "metadata": {},
     "output_type": "display_data"
    },
    {
     "name": "stdout",
     "output_type": "stream",
     "text": [
      "Accuracy: 0.7717\n",
      "Confusion Matrix:\n",
      "[[  1257  50631]\n",
      " [  1070 173516]]\n",
      "\n",
      "Classification Report:\n",
      "              precision    recall  f1-score   support\n",
      "\n",
      "           0       0.54      0.02      0.05     51888\n",
      "           1       0.77      0.99      0.87    174586\n",
      "\n",
      "    accuracy                           0.77    226474\n",
      "   macro avg       0.66      0.51      0.46    226474\n",
      "weighted avg       0.72      0.77      0.68    226474\n",
      "\n",
      "                           Logit Regression Results                           \n",
      "==============================================================================\n",
      "Dep. Variable:             is_complex   No. Observations:               905893\n",
      "Model:                          Logit   Df Residuals:                   905891\n",
      "Method:                           MLE   Df Model:                            1\n",
      "Date:                Wed, 04 Dec 2024   Pseudo R-squ.:                 0.08496\n",
      "Time:                        22:59:17   Log-Likelihood:            -4.4654e+05\n",
      "converged:                       True   LL-Null:                   -4.8800e+05\n",
      "Covariance Type:            nonrobust   LLR p-value:                     0.000\n",
      "=================================================================================\n",
      "                    coef    std err          z      P>|z|      [0.025      0.975]\n",
      "---------------------------------------------------------------------------------\n",
      "const            -0.6824      0.007    -94.438      0.000      -0.697      -0.668\n",
      "n_ingredients     0.2314      0.001    259.025      0.000       0.230       0.233\n",
      "=================================================================================\n"
     ]
    }
   ],
   "source": [
    "\n",
    "# Define a binary target variable (1 for complex, 0 for simple)\n",
    "threshold = 5  # You can adjust this based on your data\n",
    "merged_data['is_complex'] = np.where(merged_data['n_steps'] > threshold, 1, 0)\n",
    "\n",
    "# Define features (X) and target (y)\n",
    "X = merged_data[['n_ingredients']].copy()\n",
    "y = merged_data['is_complex']\n",
    "\n",
    "# Add a constant for the intercept term\n",
    "X = sm.add_constant(X)\n",
    "\n",
    "# Train-test split\n",
    "X_train, X_test, y_train, y_test = train_test_split(X, y, test_size=0.2, random_state=42)\n",
    "\n",
    "# Fit the logistic regression model\n",
    "logit_model = sm.Logit(y_train, X_train).fit()\n",
    "\n",
    "# Predict probabilities on the test data\n",
    "y_prob = logit_model.predict(X_test)\n",
    "\n",
    "# Convert probabilities to binary predictions using a 0.5 threshold\n",
    "y_pred = np.where(y_prob >= 0.5, 1, 0)\n",
    "\n",
    "# Evaluate the model\n",
    "accuracy = accuracy_score(y_test, y_pred)\n",
    "conf_matrix = confusion_matrix(y_test, y_pred)\n",
    "class_report = classification_report(y_test, y_pred)\n",
    "\n",
    "# Compute the ROC curve and AUC\n",
    "fpr, tpr, _ = roc_curve(y_test, y_prob)\n",
    "roc_auc = auc(fpr, tpr)\n",
    "\n",
    "# Plot the ROC curve\n",
    "plt.figure(figsize=(8, 6))\n",
    "plt.plot(fpr, tpr, color='blue', label=f'ROC Curve (AUC = {roc_auc:.2f})')\n",
    "plt.plot([0, 1], [0, 1], color='red', linestyle='--')\n",
    "plt.title('Receiver Operating Characteristic (ROC) Curve')\n",
    "plt.xlabel('False Positive Rate')\n",
    "plt.ylabel('True Positive Rate')\n",
    "plt.legend(loc='lower right')\n",
    "plt.show()\n",
    "\n",
    "\n",
    "print(f\"Accuracy: {accuracy:.4f}\")\n",
    "print(\"Confusion Matrix:\")\n",
    "print(conf_matrix)\n",
    "print(\"\\nClassification Report:\")\n",
    "print(class_report)\n",
    "\n",
    "# Summary of the logistic regression model\n",
    "print(logit_model.summary())\n",
    "\n",
    "\n"
   ]
  },
  {
   "cell_type": "markdown",
   "metadata": {},
   "source": [
    "#### Summary of Results:\n",
    "\n",
    "The logistic regression model predicts whether a recipe is complex based on the number of ingredients. The model achieved **77.23% accuracy**, indicating reasonable predictive performance. However, the **confusion matrix** shows high precision and recall for predicting complex recipes ('1') but poor performance for simpler ones ('0'). The **AUC of 0.70** reflects moderate discrimination ability. The coefficients suggest that an increase in ingredients significantly increases the likelihood of a recipe being classified as complex."
   ]
  }
 ],
 "metadata": {
  "kernelspec": {
   "display_name": "venvPROG8431",
   "language": "python",
   "name": "python3"
  },
  "language_info": {
   "codemirror_mode": {
    "name": "ipython",
    "version": 3
   },
   "file_extension": ".py",
   "mimetype": "text/x-python",
   "name": "python",
   "nbconvert_exporter": "python",
   "pygments_lexer": "ipython3",
   "version": "3.12.7"
  }
 },
 "nbformat": 4,
 "nbformat_minor": 2
}
