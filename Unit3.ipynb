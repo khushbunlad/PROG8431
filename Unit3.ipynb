{
 "cells": [
  {
   "cell_type": "code",
   "execution_count": 10,
   "metadata": {},
   "outputs": [
    {
     "name": "stdout",
     "output_type": "stream",
     "text": [
      "2.0\n",
      "0.9772498680518208\n",
      "0.02275013194817921\n"
     ]
    }
   ],
   "source": [
    "from scipy.stats import norm\n",
    "import math\n",
    "x = 0.9\n",
    "u=0.5\n",
    "sg=0.2\n",
    "z=(x-u)/sg\n",
    "print(z)\n",
    "\n",
    "cumulative_prob = norm.cdf(z)\n",
    "print(cumulative_prob)\n",
    "\n",
    "Outlier = 1 - cumulative_prob\n",
    "print(Outlier)\n"
   ]
  },
  {
   "cell_type": "code",
   "execution_count": 13,
   "metadata": {},
   "outputs": [
    {
     "name": "stdout",
     "output_type": "stream",
     "text": [
      "5.205653427091938\n",
      "0.9997200935918126\n"
     ]
    }
   ],
   "source": [
    "from scipy import stats\n",
    "x = 500\n",
    "xbar = 458.5\n",
    "s=25.21\n",
    "n = 10\n",
    "t = ( x- xbar)/(s/math.sqrt(n))\n",
    "print(t)\n",
    "\n",
    "df = n-1\n",
    "cumulative_prob = stats.t.cdf(t, df)\n",
    "print(cumulative_prob)"
   ]
  },
  {
   "cell_type": "markdown",
   "metadata": {},
   "source": [
    "Ask professor : to explain degree of freedom"
   ]
  }
 ],
 "metadata": {
  "kernelspec": {
   "display_name": "venvPROG8431",
   "language": "python",
   "name": "python3"
  },
  "language_info": {
   "codemirror_mode": {
    "name": "ipython",
    "version": 3
   },
   "file_extension": ".py",
   "mimetype": "text/x-python",
   "name": "python",
   "nbconvert_exporter": "python",
   "pygments_lexer": "ipython3",
   "version": "3.12.6"
  }
 },
 "nbformat": 4,
 "nbformat_minor": 2
}
