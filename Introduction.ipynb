{
 "cells": [
  {
   "attachments": {},
   "cell_type": "markdown",
   "metadata": {},
   "source": [
    "## Data Analysis Mathematics, Algorithms and Modeling\n",
    "\n",
    "\n",
    "### Team : Group 3\n",
    "|Last Name     | First Name                  | Student No  |\n",
    "|--------------|-----------------------------|-------------|\n",
    "|Ahir          | Nidhi                       | 9041129     |\n",
    "|Gonuguntla    | Keerthi                     | 9016986     |\n",
    "|Lad           | Khushbu                     | 9027375     |"
   ]
  },
  {
   "attachments": {},
   "cell_type": "markdown",
   "metadata": {},
   "source": [
    "### Problem Analysis Workshop 1\n",
    "\n",
    "#### Introduction\n",
    "In the world, where people are more health conscious and work driven, often face difficulty to prepare meals considering time, ingredients availability and dietary preferences. Although there are a millions of recipes available on internet, it requires efforts to find the one with fits with available resources. \n",
    "\n",
    "The objective of this project to utilize advanced technologies backed up with large dataset helps to generate customized meal suggestions based on user input.\n",
    "\n",
    "\n",
    "#### Field of Inquiry\n",
    "\n",
    "Natural Language Processing : understand the user’s input and map with tags\n",
    "\n",
    "\n",
    "#### Problem Statement:\n",
    "\n",
    "The project's goal is to create a recipe recommendation system powered by AI that makes meal planning easier. A dataset containing 231638 recipes is filtered by ingredients, dietary restrictions, and time constraints to provide users with personalised food recommendations. Based on user choices, this system offers quick, customised meal selections.\n",
    "\n"
   ]
  }
 ],
 "metadata": {
  "language_info": {
   "name": "python"
  },
  "orig_nbformat": 4
 },
 "nbformat": 4,
 "nbformat_minor": 2
}
