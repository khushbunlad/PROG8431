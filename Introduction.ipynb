{
 "cells": [
  {
   "attachments": {},
   "cell_type": "markdown",
   "metadata": {},
   "source": [
    "## Data Analysis Mathematics, Algorithms and Modeling\n",
    "\n",
    "\n",
    "### Team : Group 3\n",
    "|Last Name     | First Name                  | Student No  |\n",
    "|--------------|-----------------------------|-------------|\n",
    "|Ahir          | Nidhi                       | 9041129     |\n",
    "|Gonuguntla    | Keerthi                     | 9016986     |\n",
    "|Lad           | Khushbu                     | 9027375     |"
   ]
  },
  {
   "attachments": {},
   "cell_type": "markdown",
   "metadata": {},
   "source": [
    "### Problem Analysis Workshop 1\n",
    "\n",
    "#### Field of Inquiry\n",
    "What are the design and operational challenges in developing AI-powered robotic systems capable of crafting complex beverages in a way that mimics human expertise?"
   ]
  }
 ],
 "metadata": {
  "language_info": {
   "name": "python"
  },
  "orig_nbformat": 4
 },
 "nbformat": 4,
 "nbformat_minor": 2
}
