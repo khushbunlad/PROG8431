{
 "cells": [
  {
   "cell_type": "markdown",
   "metadata": {},
   "source": [
    "## Data Analysis Mathematics, Algorithms and Modeling\n",
    "\n",
    "# AI Powered Recipe Recommendation System \n",
    "\n",
    "### Team : Group 3\n",
    "| Student No  | First Name                  | Last Name     |\n",
    "|-------------|-----------------------------|---------------|\n",
    "| 9041129     | Nidhi                       | Ahir          |\n",
    "| 9016986     | Keerthi                     | Gonuguntla    |\n",
    "| 9027375     | Khushbu                     | Lad           |"
   ]
  },
  {
   "cell_type": "markdown",
   "metadata": {},
   "source": [
    "#### Introduction\n",
    "\n",
    "In the next phase of recepe recommandation system, Data related to user feedback and rating are taken into consideration with the existing recepe data with a view to identify insights about user's preferences and engagement with the recepe. This will help to identify corelation between recepe characteristics and user preferences "
   ]
  },
  {
   "cell_type": "markdown",
   "metadata": {},
   "source": [
    "### Rectangular dataset : Raw_interaction.csv"
   ]
  },
  {
   "cell_type": "markdown",
   "metadata": {},
   "source": [
    "Import Libraries"
   ]
  },
  {
   "cell_type": "code",
   "execution_count": 34,
   "metadata": {},
   "outputs": [],
   "source": [
    "import pandas as pd "
   ]
  },
  {
   "cell_type": "markdown",
   "metadata": {},
   "source": [
    "#### Representing the new data set in classes and methods"
   ]
  },
  {
   "cell_type": "code",
   "execution_count": 35,
   "metadata": {},
   "outputs": [
    {
     "name": "stdout",
     "output_type": "stream",
     "text": [
      "---> STEP 1 : Loads the data from a CSV file. \n",
      "\n",
      "RAW_interactions.csv : Data loaded successfully.\n",
      "Total Records : 1132367 \n",
      "\n",
      "---> STEP 1 : Loads the data from a CSV file. \n",
      "\n",
      "RAW_recipes.csv : Data loaded successfully.\n",
      "Total Records : 231637 \n",
      "\n"
     ]
    }
   ],
   "source": [
    "class RawRecipe:\n",
    "    def __init__(self):\n",
    "        self.file_path = './Dataset/RAW_recipes.csv'\n",
    "        self.data = None\n",
    "    \n",
    "    # Loads the data from a CSV file.\n",
    "    def load_data(self):\n",
    "        self.data = pd.read_csv(self.file_path)\n",
    "        print(f\"---> STEP 1 : Loads the data from a CSV file. \\r\\n\")\n",
    "        print(f\"RAW_recipes.csv : Data loaded successfully.\")\n",
    "        print(f\"Total Records : {self.data.shape[0]} \\r\\n\")\n",
    "        return self.data\n",
    "    \n",
    "class RecepeInteraction:\n",
    "    def __init__(self):\n",
    "        self.file_path = './Dataset/RAW_interactions.csv'\n",
    "        self.data = None\n",
    "    \n",
    "    # Loads the data from a CSV file.\n",
    "    def load_data(self):\n",
    "        self.data = pd.read_csv(self.file_path)\n",
    "        print(f\"---> STEP 1 : Loads the data from a CSV file. \\r\\n\")\n",
    "        print(f\"RAW_interactions.csv : Data loaded successfully.\")\n",
    "        print(f\"Total Records : {self.data.shape[0]} \\r\\n\")\n",
    "        return self.data\n",
    "    \n",
    "    def view_sample_data(self):\n",
    "        self.data.head(5)\n",
    "\n",
    "    # Data quality : Null Check\n",
    "    def check_null_values(self):\n",
    "        print(f\"---> STEP 2 : Null Check for data \\r\\n\")\n",
    "        if self.data is not None:\n",
    "            nulls = self.data.isnull().sum()\n",
    "            print(nulls)\n",
    "            return nulls\n",
    "        else:\n",
    "            print(\"Data not loaded.\")\n",
    "     # Data quality : Duplicate Check\n",
    "    def check_duplicate_values(self):\n",
    "        print(f\"\\r\\n---> STEP 3 : Duplicate data Check for recepe \\r\\n\")\n",
    "        if self.data is not None:\n",
    "            counts = self.data[\"recipe_id\"].value_counts()\n",
    "            dupl = (counts[counts>1]).reset_index()\n",
    "            dupl.columns = [\"recipe_id\", \"Count\"]\n",
    "            print(dupl)\n",
    "            return dupl\n",
    "        else:\n",
    "            print(\"Data not loaded.\")\n",
    "\n",
    "if __name__ == \"__main__\":\n",
    "\n",
    "    # Create an instance of the RecepeInteraction  class and load data\n",
    "    interactionData = RecepeInteraction()\n",
    "    interactionData.load_data()\n",
    "\n",
    "    # Create an instance of the RecepeInteraction  class and load data\n",
    "    recepeData = RawRecipe()\n",
    "    recepeData.load_data()\n"
   ]
  },
  {
   "cell_type": "code",
   "execution_count": 36,
   "metadata": {},
   "outputs": [
    {
     "data": {
      "text/html": [
       "<div>\n",
       "<style scoped>\n",
       "    .dataframe tbody tr th:only-of-type {\n",
       "        vertical-align: middle;\n",
       "    }\n",
       "\n",
       "    .dataframe tbody tr th {\n",
       "        vertical-align: top;\n",
       "    }\n",
       "\n",
       "    .dataframe thead th {\n",
       "        text-align: right;\n",
       "    }\n",
       "</style>\n",
       "<table border=\"1\" class=\"dataframe\">\n",
       "  <thead>\n",
       "    <tr style=\"text-align: right;\">\n",
       "      <th></th>\n",
       "      <th>user_id</th>\n",
       "      <th>recipe_id</th>\n",
       "      <th>date</th>\n",
       "      <th>rating</th>\n",
       "      <th>review</th>\n",
       "    </tr>\n",
       "  </thead>\n",
       "  <tbody>\n",
       "    <tr>\n",
       "      <th>0</th>\n",
       "      <td>38094</td>\n",
       "      <td>40893</td>\n",
       "      <td>2003-02-17</td>\n",
       "      <td>4</td>\n",
       "      <td>Great with a salad. Cooked on top of stove for...</td>\n",
       "    </tr>\n",
       "    <tr>\n",
       "      <th>1</th>\n",
       "      <td>1293707</td>\n",
       "      <td>40893</td>\n",
       "      <td>2011-12-21</td>\n",
       "      <td>5</td>\n",
       "      <td>So simple, so delicious! Great for chilly fall...</td>\n",
       "    </tr>\n",
       "    <tr>\n",
       "      <th>2</th>\n",
       "      <td>8937</td>\n",
       "      <td>44394</td>\n",
       "      <td>2002-12-01</td>\n",
       "      <td>4</td>\n",
       "      <td>This worked very well and is EASY.  I used not...</td>\n",
       "    </tr>\n",
       "    <tr>\n",
       "      <th>3</th>\n",
       "      <td>126440</td>\n",
       "      <td>85009</td>\n",
       "      <td>2010-02-27</td>\n",
       "      <td>5</td>\n",
       "      <td>I made the Mexican topping and took it to bunk...</td>\n",
       "    </tr>\n",
       "    <tr>\n",
       "      <th>4</th>\n",
       "      <td>57222</td>\n",
       "      <td>85009</td>\n",
       "      <td>2011-10-01</td>\n",
       "      <td>5</td>\n",
       "      <td>Made the cheddar bacon topping, adding a sprin...</td>\n",
       "    </tr>\n",
       "  </tbody>\n",
       "</table>\n",
       "</div>"
      ],
      "text/plain": [
       "   user_id  recipe_id        date  rating  \\\n",
       "0    38094      40893  2003-02-17       4   \n",
       "1  1293707      40893  2011-12-21       5   \n",
       "2     8937      44394  2002-12-01       4   \n",
       "3   126440      85009  2010-02-27       5   \n",
       "4    57222      85009  2011-10-01       5   \n",
       "\n",
       "                                              review  \n",
       "0  Great with a salad. Cooked on top of stove for...  \n",
       "1  So simple, so delicious! Great for chilly fall...  \n",
       "2  This worked very well and is EASY.  I used not...  \n",
       "3  I made the Mexican topping and took it to bunk...  \n",
       "4  Made the cheddar bacon topping, adding a sprin...  "
      ]
     },
     "execution_count": 36,
     "metadata": {},
     "output_type": "execute_result"
    }
   ],
   "source": [
    "interactionData.data.head(5)"
   ]
  },
  {
   "cell_type": "markdown",
   "metadata": {},
   "source": [
    "This dataset appears to contain reviews and ratings for various recipes. Here's a breakdown of each column:\n",
    "\n",
    "**user_id:** Unique identifier for the user who provided the rating/review.\n",
    "\n",
    "**recipe_id:** Unique identifier for the recipe being rated/reviewed.\n",
    "\n",
    "**date:** Date when the rating and review were provided.\n",
    "\n",
    "**rating:** Numerical rating (on a scale of 0 to 5) given to the recipe.\n",
    "\n",
    "**review:** User's textual review providing additional feedback or modifications to the recipe."
   ]
  },
  {
   "cell_type": "code",
   "execution_count": 37,
   "metadata": {},
   "outputs": [
    {
     "name": "stdout",
     "output_type": "stream",
     "text": [
      "---> STEP 2 : Null Check for data \n",
      "\n",
      "user_id        0\n",
      "recipe_id      0\n",
      "date           0\n",
      "rating         0\n",
      "review       169\n",
      "dtype: int64\n",
      "\n",
      "---> STEP 3 : Duplicate data Check for recepe \n",
      "\n",
      "        recipe_id  Count\n",
      "0            2886   1613\n",
      "1           27208   1601\n",
      "2           89204   1579\n",
      "3           39087   1448\n",
      "4           67256   1322\n",
      "...           ...    ...\n",
      "139679     205412      2\n",
      "139680     207778      2\n",
      "139681     219118      2\n",
      "139682     414099      2\n",
      "139683     253419      2\n",
      "\n",
      "[139684 rows x 2 columns]\n"
     ]
    },
    {
     "data": {
      "text/html": [
       "<div>\n",
       "<style scoped>\n",
       "    .dataframe tbody tr th:only-of-type {\n",
       "        vertical-align: middle;\n",
       "    }\n",
       "\n",
       "    .dataframe tbody tr th {\n",
       "        vertical-align: top;\n",
       "    }\n",
       "\n",
       "    .dataframe thead th {\n",
       "        text-align: right;\n",
       "    }\n",
       "</style>\n",
       "<table border=\"1\" class=\"dataframe\">\n",
       "  <thead>\n",
       "    <tr style=\"text-align: right;\">\n",
       "      <th></th>\n",
       "      <th>recipe_id</th>\n",
       "      <th>Count</th>\n",
       "    </tr>\n",
       "  </thead>\n",
       "  <tbody>\n",
       "    <tr>\n",
       "      <th>0</th>\n",
       "      <td>2886</td>\n",
       "      <td>1613</td>\n",
       "    </tr>\n",
       "    <tr>\n",
       "      <th>1</th>\n",
       "      <td>27208</td>\n",
       "      <td>1601</td>\n",
       "    </tr>\n",
       "    <tr>\n",
       "      <th>2</th>\n",
       "      <td>89204</td>\n",
       "      <td>1579</td>\n",
       "    </tr>\n",
       "    <tr>\n",
       "      <th>3</th>\n",
       "      <td>39087</td>\n",
       "      <td>1448</td>\n",
       "    </tr>\n",
       "    <tr>\n",
       "      <th>4</th>\n",
       "      <td>67256</td>\n",
       "      <td>1322</td>\n",
       "    </tr>\n",
       "    <tr>\n",
       "      <th>...</th>\n",
       "      <td>...</td>\n",
       "      <td>...</td>\n",
       "    </tr>\n",
       "    <tr>\n",
       "      <th>139679</th>\n",
       "      <td>205412</td>\n",
       "      <td>2</td>\n",
       "    </tr>\n",
       "    <tr>\n",
       "      <th>139680</th>\n",
       "      <td>207778</td>\n",
       "      <td>2</td>\n",
       "    </tr>\n",
       "    <tr>\n",
       "      <th>139681</th>\n",
       "      <td>219118</td>\n",
       "      <td>2</td>\n",
       "    </tr>\n",
       "    <tr>\n",
       "      <th>139682</th>\n",
       "      <td>414099</td>\n",
       "      <td>2</td>\n",
       "    </tr>\n",
       "    <tr>\n",
       "      <th>139683</th>\n",
       "      <td>253419</td>\n",
       "      <td>2</td>\n",
       "    </tr>\n",
       "  </tbody>\n",
       "</table>\n",
       "<p>139684 rows × 2 columns</p>\n",
       "</div>"
      ],
      "text/plain": [
       "        recipe_id  Count\n",
       "0            2886   1613\n",
       "1           27208   1601\n",
       "2           89204   1579\n",
       "3           39087   1448\n",
       "4           67256   1322\n",
       "...           ...    ...\n",
       "139679     205412      2\n",
       "139680     207778      2\n",
       "139681     219118      2\n",
       "139682     414099      2\n",
       "139683     253419      2\n",
       "\n",
       "[139684 rows x 2 columns]"
      ]
     },
     "execution_count": 37,
     "metadata": {},
     "output_type": "execute_result"
    }
   ],
   "source": [
    "\n",
    "# Check for missing values\n",
    "interactionData.check_null_values()\n",
    "\n",
    "# Check duplicate values\n",
    "interactionData.check_duplicate_values()"
   ]
  },
  {
   "cell_type": "code",
   "execution_count": 39,
   "metadata": {},
   "outputs": [
    {
     "name": "stdout",
     "output_type": "stream",
     "text": [
      "Data Merged Successfully\n"
     ]
    },
    {
     "data": {
      "text/html": [
       "<div>\n",
       "<style scoped>\n",
       "    .dataframe tbody tr th:only-of-type {\n",
       "        vertical-align: middle;\n",
       "    }\n",
       "\n",
       "    .dataframe tbody tr th {\n",
       "        vertical-align: top;\n",
       "    }\n",
       "\n",
       "    .dataframe thead th {\n",
       "        text-align: right;\n",
       "    }\n",
       "</style>\n",
       "<table border=\"1\" class=\"dataframe\">\n",
       "  <thead>\n",
       "    <tr style=\"text-align: right;\">\n",
       "      <th></th>\n",
       "      <th>name</th>\n",
       "      <th>id</th>\n",
       "      <th>minutes</th>\n",
       "      <th>contributor_id</th>\n",
       "      <th>submitted</th>\n",
       "      <th>tags</th>\n",
       "      <th>nutrition</th>\n",
       "      <th>n_steps</th>\n",
       "      <th>steps</th>\n",
       "      <th>description</th>\n",
       "      <th>ingredients</th>\n",
       "      <th>n_ingredients</th>\n",
       "      <th>user_id</th>\n",
       "      <th>recipe_id</th>\n",
       "      <th>date</th>\n",
       "      <th>rating</th>\n",
       "      <th>review</th>\n",
       "    </tr>\n",
       "  </thead>\n",
       "  <tbody>\n",
       "    <tr>\n",
       "      <th>0</th>\n",
       "      <td>arriba   baked winter squash mexican style</td>\n",
       "      <td>137739</td>\n",
       "      <td>55</td>\n",
       "      <td>47892</td>\n",
       "      <td>2005-09-16</td>\n",
       "      <td>['60-minutes-or-less', 'time-to-make', 'course...</td>\n",
       "      <td>[51.5, 0.0, 13.0, 0.0, 2.0, 0.0, 4.0]</td>\n",
       "      <td>11</td>\n",
       "      <td>['make a choice and proceed with recipe', 'dep...</td>\n",
       "      <td>autumn is my favorite time of year to cook! th...</td>\n",
       "      <td>['winter squash', 'mexican seasoning', 'mixed ...</td>\n",
       "      <td>7</td>\n",
       "      <td>4470</td>\n",
       "      <td>137739</td>\n",
       "      <td>2006-02-18</td>\n",
       "      <td>5</td>\n",
       "      <td>I used an acorn squash and recipe#137681 Swee...</td>\n",
       "    </tr>\n",
       "    <tr>\n",
       "      <th>1</th>\n",
       "      <td>arriba   baked winter squash mexican style</td>\n",
       "      <td>137739</td>\n",
       "      <td>55</td>\n",
       "      <td>47892</td>\n",
       "      <td>2005-09-16</td>\n",
       "      <td>['60-minutes-or-less', 'time-to-make', 'course...</td>\n",
       "      <td>[51.5, 0.0, 13.0, 0.0, 2.0, 0.0, 4.0]</td>\n",
       "      <td>11</td>\n",
       "      <td>['make a choice and proceed with recipe', 'dep...</td>\n",
       "      <td>autumn is my favorite time of year to cook! th...</td>\n",
       "      <td>['winter squash', 'mexican seasoning', 'mixed ...</td>\n",
       "      <td>7</td>\n",
       "      <td>593927</td>\n",
       "      <td>137739</td>\n",
       "      <td>2010-08-21</td>\n",
       "      <td>5</td>\n",
       "      <td>This was a nice change. I used butternut squas...</td>\n",
       "    </tr>\n",
       "    <tr>\n",
       "      <th>2</th>\n",
       "      <td>arriba   baked winter squash mexican style</td>\n",
       "      <td>137739</td>\n",
       "      <td>55</td>\n",
       "      <td>47892</td>\n",
       "      <td>2005-09-16</td>\n",
       "      <td>['60-minutes-or-less', 'time-to-make', 'course...</td>\n",
       "      <td>[51.5, 0.0, 13.0, 0.0, 2.0, 0.0, 4.0]</td>\n",
       "      <td>11</td>\n",
       "      <td>['make a choice and proceed with recipe', 'dep...</td>\n",
       "      <td>autumn is my favorite time of year to cook! th...</td>\n",
       "      <td>['winter squash', 'mexican seasoning', 'mixed ...</td>\n",
       "      <td>7</td>\n",
       "      <td>178427</td>\n",
       "      <td>137739</td>\n",
       "      <td>2011-12-05</td>\n",
       "      <td>5</td>\n",
       "      <td>Excellent recipe! I used butternut squash and ...</td>\n",
       "    </tr>\n",
       "    <tr>\n",
       "      <th>3</th>\n",
       "      <td>a bit different  breakfast pizza</td>\n",
       "      <td>31490</td>\n",
       "      <td>30</td>\n",
       "      <td>26278</td>\n",
       "      <td>2002-06-17</td>\n",
       "      <td>['30-minutes-or-less', 'time-to-make', 'course...</td>\n",
       "      <td>[173.4, 18.0, 0.0, 17.0, 22.0, 35.0, 1.0]</td>\n",
       "      <td>9</td>\n",
       "      <td>['preheat oven to 425 degrees f', 'press dough...</td>\n",
       "      <td>this recipe calls for the crust to be prebaked...</td>\n",
       "      <td>['prepared pizza crust', 'sausage patty', 'egg...</td>\n",
       "      <td>6</td>\n",
       "      <td>28603</td>\n",
       "      <td>31490</td>\n",
       "      <td>2002-08-19</td>\n",
       "      <td>0</td>\n",
       "      <td>Have not tried this, but it sounds delicious. ...</td>\n",
       "    </tr>\n",
       "    <tr>\n",
       "      <th>4</th>\n",
       "      <td>a bit different  breakfast pizza</td>\n",
       "      <td>31490</td>\n",
       "      <td>30</td>\n",
       "      <td>26278</td>\n",
       "      <td>2002-06-17</td>\n",
       "      <td>['30-minutes-or-less', 'time-to-make', 'course...</td>\n",
       "      <td>[173.4, 18.0, 0.0, 17.0, 22.0, 35.0, 1.0]</td>\n",
       "      <td>9</td>\n",
       "      <td>['preheat oven to 425 degrees f', 'press dough...</td>\n",
       "      <td>this recipe calls for the crust to be prebaked...</td>\n",
       "      <td>['prepared pizza crust', 'sausage patty', 'egg...</td>\n",
       "      <td>6</td>\n",
       "      <td>346277</td>\n",
       "      <td>31490</td>\n",
       "      <td>2006-08-27</td>\n",
       "      <td>5</td>\n",
       "      <td>This recipe was wonderful.  Instead of using t...</td>\n",
       "    </tr>\n",
       "  </tbody>\n",
       "</table>\n",
       "</div>"
      ],
      "text/plain": [
       "                                         name      id  minutes  \\\n",
       "0  arriba   baked winter squash mexican style  137739       55   \n",
       "1  arriba   baked winter squash mexican style  137739       55   \n",
       "2  arriba   baked winter squash mexican style  137739       55   \n",
       "3            a bit different  breakfast pizza   31490       30   \n",
       "4            a bit different  breakfast pizza   31490       30   \n",
       "\n",
       "   contributor_id   submitted  \\\n",
       "0           47892  2005-09-16   \n",
       "1           47892  2005-09-16   \n",
       "2           47892  2005-09-16   \n",
       "3           26278  2002-06-17   \n",
       "4           26278  2002-06-17   \n",
       "\n",
       "                                                tags  \\\n",
       "0  ['60-minutes-or-less', 'time-to-make', 'course...   \n",
       "1  ['60-minutes-or-less', 'time-to-make', 'course...   \n",
       "2  ['60-minutes-or-less', 'time-to-make', 'course...   \n",
       "3  ['30-minutes-or-less', 'time-to-make', 'course...   \n",
       "4  ['30-minutes-or-less', 'time-to-make', 'course...   \n",
       "\n",
       "                                   nutrition  n_steps  \\\n",
       "0      [51.5, 0.0, 13.0, 0.0, 2.0, 0.0, 4.0]       11   \n",
       "1      [51.5, 0.0, 13.0, 0.0, 2.0, 0.0, 4.0]       11   \n",
       "2      [51.5, 0.0, 13.0, 0.0, 2.0, 0.0, 4.0]       11   \n",
       "3  [173.4, 18.0, 0.0, 17.0, 22.0, 35.0, 1.0]        9   \n",
       "4  [173.4, 18.0, 0.0, 17.0, 22.0, 35.0, 1.0]        9   \n",
       "\n",
       "                                               steps  \\\n",
       "0  ['make a choice and proceed with recipe', 'dep...   \n",
       "1  ['make a choice and proceed with recipe', 'dep...   \n",
       "2  ['make a choice and proceed with recipe', 'dep...   \n",
       "3  ['preheat oven to 425 degrees f', 'press dough...   \n",
       "4  ['preheat oven to 425 degrees f', 'press dough...   \n",
       "\n",
       "                                         description  \\\n",
       "0  autumn is my favorite time of year to cook! th...   \n",
       "1  autumn is my favorite time of year to cook! th...   \n",
       "2  autumn is my favorite time of year to cook! th...   \n",
       "3  this recipe calls for the crust to be prebaked...   \n",
       "4  this recipe calls for the crust to be prebaked...   \n",
       "\n",
       "                                         ingredients  n_ingredients  user_id  \\\n",
       "0  ['winter squash', 'mexican seasoning', 'mixed ...              7     4470   \n",
       "1  ['winter squash', 'mexican seasoning', 'mixed ...              7   593927   \n",
       "2  ['winter squash', 'mexican seasoning', 'mixed ...              7   178427   \n",
       "3  ['prepared pizza crust', 'sausage patty', 'egg...              6    28603   \n",
       "4  ['prepared pizza crust', 'sausage patty', 'egg...              6   346277   \n",
       "\n",
       "   recipe_id        date  rating  \\\n",
       "0     137739  2006-02-18       5   \n",
       "1     137739  2010-08-21       5   \n",
       "2     137739  2011-12-05       5   \n",
       "3      31490  2002-08-19       0   \n",
       "4      31490  2006-08-27       5   \n",
       "\n",
       "                                              review  \n",
       "0   I used an acorn squash and recipe#137681 Swee...  \n",
       "1  This was a nice change. I used butternut squas...  \n",
       "2  Excellent recipe! I used butternut squash and ...  \n",
       "3  Have not tried this, but it sounds delicious. ...  \n",
       "4  This recipe was wonderful.  Instead of using t...  "
      ]
     },
     "execution_count": 39,
     "metadata": {},
     "output_type": "execute_result"
    }
   ],
   "source": [
    "# Merge data using common field recepe Id\n",
    "merged_data = pd.merge(recepeData.data, interactionData.data, left_on='id', right_on='recipe_id')\n",
    "print(\"Data Merged Successfully\")\n",
    "merged_data.head(5)"
   ]
  },
  {
   "cell_type": "markdown",
   "metadata": {},
   "source": [
    "### QQ Normal Plot"
   ]
  },
  {
   "cell_type": "code",
   "execution_count": 77,
   "metadata": {},
   "outputs": [
    {
     "data": {
      "image/png": "[encoded data removed]",
      "text/plain": [
       "<Figure size 1400x600 with 2 Axes>"
      ]
     },
     "metadata": {},
     "output_type": "display_data"
    }
   ],
   "source": [
    "import matplotlib.pyplot as plt\n",
    "import scipy.stats as zscore\n",
    "\n",
    "recipe_id = recepeData.data[\"minutes\"]  # Replace with your column\n",
    "rating= interactionData.data[\"rating\"]\n",
    "\n",
    "def create_qq_plot(ax,data, title, line_color, line_width, point_color, point_size):\n",
    "    (osm, osr), (slope, intercept, r) = zscore.probplot(data, dist=\"norm\")\n",
    "    \n",
    "    # Plot the data points\n",
    "    ax.scatter(osm, osr, color=point_color, s=point_size, label='Data Points')\n",
    "    \n",
    "    # Plot the fit line\n",
    "    ax.plot(osm, slope * osm + intercept, color=line_color, lw=line_width, label='Fit Line')\n",
    "    \n",
    "    # Set title and labels for the subplot (ax)\n",
    "    ax.set_title(f'QQ Plot of {title}')\n",
    "    ax.set_xlabel('Theoretical Quantiles')\n",
    "    ax.set_ylabel('Sample Quantiles')\n",
    "    \n",
    "    # Add legend and grid\n",
    "    ax.legend()\n",
    "    ax.grid(True)\n",
    "\n",
    "fig, axes = plt.subplots(1, 2, figsize=(14, 6))  # 1 row, 2 columns\n",
    "\n",
    "# QQ Plot for Number of Ingredients\n",
    "create_qq_plot(axes[0],recipe_id,'minutes',\"blue\",1,\"skyblue\",3)\n",
    "\n",
    "# QQ Plot for Preparation Time\n",
    "create_qq_plot(axes[1],rating, 'Rating',\"red\",1,\"yellow\",5)"
   ]
  },
  {
   "cell_type": "markdown",
   "metadata": {},
   "source": [
    "##Correlation \n"
   ]
  },
  {
   "cell_type": "code",
   "execution_count": 78,
   "metadata": {},
   "outputs": [
    {
     "name": "stdout",
     "output_type": "stream",
     "text": [
      "Correlation coefficient between Variable1 and Variable2: 0.0010534354642060928\n",
      "                name        id   minutes  contributor_id  submitted  tags  \\\n",
      "name             NaN       NaN       NaN             NaN        NaN   NaN   \n",
      "id               NaN  1.000000  0.003164        0.102952        NaN   NaN   \n",
      "minutes          NaN  0.003164  1.000000       -0.000133        NaN   NaN   \n",
      "contributor_id   NaN  0.102952 -0.000133        1.000000        NaN   NaN   \n",
      "submitted        NaN       NaN       NaN             NaN        NaN   NaN   \n",
      "tags             NaN       NaN       NaN             NaN        NaN   NaN   \n",
      "nutrition        NaN       NaN       NaN             NaN        NaN   NaN   \n",
      "n_steps          NaN  0.056699 -0.000438        0.027721        NaN   NaN   \n",
      "steps            NaN       NaN       NaN             NaN        NaN   NaN   \n",
      "description      NaN       NaN       NaN             NaN        NaN   NaN   \n",
      "ingredients      NaN       NaN       NaN             NaN        NaN   NaN   \n",
      "n_ingredients    NaN  0.018120 -0.001059        0.005379        NaN   NaN   \n",
      "user_id          NaN  0.100059  0.000595        0.102746        NaN   NaN   \n",
      "recipe_id        NaN  1.000000  0.003164        0.102952        NaN   NaN   \n",
      "date             NaN       NaN       NaN             NaN        NaN   NaN   \n",
      "rating           NaN -0.013570  0.001053       -0.012214        NaN   NaN   \n",
      "review           NaN -0.346584  0.805041       -0.295872        NaN   NaN   \n",
      "\n",
      "                nutrition   n_steps  steps  description  ingredients  \\\n",
      "name                  NaN       NaN    NaN          NaN          NaN   \n",
      "id                    NaN  0.056699    NaN          NaN          NaN   \n",
      "minutes               NaN -0.000438    NaN          NaN          NaN   \n",
      "contributor_id        NaN  0.027721    NaN          NaN          NaN   \n",
      "submitted             NaN       NaN    NaN          NaN          NaN   \n",
      "tags                  NaN       NaN    NaN          NaN          NaN   \n",
      "nutrition             NaN       NaN    NaN          NaN          NaN   \n",
      "n_steps               NaN  1.000000    NaN          NaN          NaN   \n",
      "steps                 NaN       NaN    NaN          NaN          NaN   \n",
      "description           NaN       NaN    NaN          NaN          NaN   \n",
      "ingredients           NaN       NaN    NaN          NaN          NaN   \n",
      "n_ingredients         NaN  0.380295    NaN          NaN          NaN   \n",
      "user_id               NaN  0.051686    NaN          NaN          NaN   \n",
      "recipe_id             NaN  0.056699    NaN          NaN          NaN   \n",
      "date                  NaN       NaN    NaN          NaN          NaN   \n",
      "rating                NaN -0.021169    NaN          NaN          NaN   \n",
      "review                NaN -0.208149    NaN          NaN          NaN   \n",
      "\n",
      "                n_ingredients   user_id  recipe_id  date    rating    review  \n",
      "name                      NaN       NaN        NaN   NaN       NaN       NaN  \n",
      "id                   0.018120  0.100059   1.000000   NaN -0.013570 -0.346584  \n",
      "minutes             -0.001059  0.000595   0.003164   NaN  0.001053  0.805041  \n",
      "contributor_id       0.005379  0.102746   0.102952   NaN -0.012214 -0.295872  \n",
      "submitted                 NaN       NaN        NaN   NaN       NaN       NaN  \n",
      "tags                      NaN       NaN        NaN   NaN       NaN       NaN  \n",
      "nutrition                 NaN       NaN        NaN   NaN       NaN       NaN  \n",
      "n_steps              0.380295  0.051686   0.056699   NaN -0.021169 -0.208149  \n",
      "steps                     NaN       NaN        NaN   NaN       NaN       NaN  \n",
      "description               NaN       NaN        NaN   NaN       NaN       NaN  \n",
      "ingredients               NaN       NaN        NaN   NaN       NaN       NaN  \n",
      "n_ingredients        1.000000  0.008134   0.018120   NaN -0.003529  0.053881  \n",
      "user_id              0.008134  1.000000   0.100059   NaN -0.196180  0.679588  \n",
      "recipe_id            0.018120  0.100059   1.000000   NaN -0.013570 -0.346584  \n",
      "date                      NaN       NaN        NaN   NaN       NaN       NaN  \n",
      "rating              -0.003529 -0.196180  -0.013570   NaN  1.000000 -0.465434  \n",
      "review               0.053881  0.679588  -0.346584   NaN -0.465434  1.000000  \n"
     ]
    }
   ],
   "source": [
    "correlation = merged_data['minutes'].corr(merged_data['rating'])\n",
    "\n",
    "print(f'Correlation coefficient between Variable1 and Variable2: {correlation}')\n",
    "\n",
    "# Optionally, visualize the relationship using a scatter plot\n",
    "# sns.scatterplot(x='id', y='rating', data=merged_data)\n",
    "# plt.title('Scatter Plot of id vs rating')\n",
    "# plt.xlabel('id')\n",
    "# plt.ylabel('ratings')\n",
    "# plt.show()\n",
    "\n",
    "df = merged_data.apply(pd.to_numeric, errors = 'coerce')\n",
    "corr_mat = df.corr()\n",
    "print(corr_mat)"
   ]
  },
  {
   "cell_type": "code",
   "execution_count": 60,
   "metadata": {},
   "outputs": [
    {
     "name": "stdout",
     "output_type": "stream",
     "text": [
      "Z-Score for the steps\n",
      "  0          0.465692\n",
      "1          0.465692\n",
      "2          0.465692\n",
      "3         -3.487655\n",
      "4          0.465692\n",
      "             ...   \n",
      "1132362    0.465692\n",
      "1132363   -2.696986\n",
      "1132364   -2.696986\n",
      "1132365    0.465692\n",
      "1132366   -3.487655\n",
      "Name: rating, Length: 1132367, dtype: float64\n"
     ]
    }
   ],
   "source": [
    "Zscore_steps = zscore.zscore(merged_data['rating'])\n",
    "print(f\"Z-Score for the steps\\n \",Zscore_steps)"
   ]
  },
  {
   "cell_type": "code",
   "execution_count": 59,
   "metadata": {},
   "outputs": [
    {
     "name": "stdout",
     "output_type": "stream",
     "text": [
      "T-score for rating: 3711.3073279069586\n"
     ]
    }
   ],
   "source": [
    "sample_mean = merged_data['rating'].mean()\n",
    "sample_std = merged_data['rating'].std()\n",
    "n = len(merged_data['rating'])\n",
    "\n",
    "# Specify the population mean (change as necessary)\n",
    "population_mean = 0  # Update this to your population mean\n",
    "\n",
    "# Calculate the t-score\n",
    "t_score = (sample_mean - population_mean) / (sample_std / np.sqrt(n))\n",
    "\n",
    "print(f\"T-score for {'rating'}: {t_score}\")"
   ]
  },
  {
   "cell_type": "markdown",
   "metadata": {},
   "source": [
    "### Shapiro-Wilk Normality Test"
   ]
  },
  {
   "cell_type": "code",
   "execution_count": 80,
   "metadata": {},
   "outputs": [
    {
     "name": "stderr",
     "output_type": "stream",
     "text": [
      "c:\\Users\\ADMIN\\Documents\\data analysis\\PROG8431\\PROG8431\\venvPROG8431\\Lib\\site-packages\\scipy\\stats\\_axis_nan_policy.py:573: UserWarning: scipy.stats.shapiro: For N > 5000, computed p-value may not be accurate. Current N is 1132367.\n",
      "  res = hypotest_fun_out(*samples, **kwds)\n"
     ]
    },
    {
     "name": "stdout",
     "output_type": "stream",
     "text": [
      "   rating        p_value\n",
      "0  rating  1.141461e-211\n"
     ]
    },
    {
     "name": "stderr",
     "output_type": "stream",
     "text": [
      "c:\\Users\\ADMIN\\Documents\\data analysis\\PROG8431\\PROG8431\\venvPROG8431\\Lib\\site-packages\\scipy\\stats\\_axis_nan_policy.py:573: UserWarning: scipy.stats.shapiro: For N > 5000, computed p-value may not be accurate. Current N is 1132367.\n",
      "  res = hypotest_fun_out(*samples, **kwds)\n"
     ]
    },
    {
     "name": "stdout",
     "output_type": "stream",
     "text": [
      "   minutes        p_value\n",
      "0  minutes  1.678490e-240\n"
     ]
    }
   ],
   "source": [
    "from scipy import stats\n",
    "\n",
    "#data.columns = ['name', 'id', 'minutes', 'contributor_id', 'tags', 'nutrition', 'steps', 'submitted', 'n_steps', 'description', 'ingredients', 'n_ingredients']\n",
    "\n",
    "# Select only numeric columns for the Shapiro-Wilk test\n",
    "numeric_columns = merged_data.select_dtypes(include='number').columns\n",
    "\n",
    "# Apply the Shapiro-Wilk test for normality on each numeric column\n",
    "shapiro_results = {}\n",
    "\n",
    "for column in numeric_columns:\n",
    "    statistic, p_value = stats.shapiro(merged_data['rating'].dropna())  # Use dropna() to remove NaN values\n",
    "    shapiro_results['rating'] = p_value\n",
    "\n",
    "# Convert results to DataFrame for better visualization\n",
    "shapiro_results_df = pd.DataFrame(list(shapiro_results.items()), columns=['rating', 'p_value'])\n",
    "\n",
    "# Display the Shapiro-Wilk test results\n",
    "print(shapiro_results_df)\n",
    "\n",
    "numeric_columns = merged_data.select_dtypes(include='number').columns\n",
    "\n",
    "# Apply the Shapiro-Wilk test for normality on each numeric column\n",
    "shapiro_results = {}\n",
    "\n",
    "for column in numeric_columns:\n",
    "    statistic, p_value = stats.shapiro(merged_data['minutes'].dropna())  # Use dropna() to remove NaN values\n",
    "    shapiro_results['minutes'] = p_value\n",
    "\n",
    "# Convert results to DataFrame for better visualization\n",
    "shapiro_results_df = pd.DataFrame(list(shapiro_results.items()), columns=['minutes', 'p_value'])\n",
    "\n",
    "# Display the Shapiro-Wilk test results\n",
    "print(shapiro_results_df)"
   ]
  },
  {
   "cell_type": "markdown",
   "metadata": {},
   "source": [
    "#### Here P-Values is less than 0.05 for the both ratings and minutes so that our dta is normally distributed.\n"
   ]
  },
  {
   "cell_type": "markdown",
   "metadata": {},
   "source": [
    "### F-TEST :"
   ]
  },
  {
   "cell_type": "code",
   "execution_count": 73,
   "metadata": {},
   "outputs": [
    {
     "name": "stdout",
     "output_type": "stream",
     "text": [
      "F-statistic: 19.097777715681058\n",
      "P-value: 1.2419492348719483e-05\n",
      "Reject the null hypothesis: Variances are significantly different.\n"
     ]
    }
   ],
   "source": [
    "import pandas as pd\n",
    "import numpy as np\n",
    "from scipy import stats\n",
    "\n",
    "# Sample data creation (assuming these are your dataframes)\n",
    "# raw_recipes = pd.read_csv('path_to_your_recipes.csv')\n",
    "# raw_interaction = pd.read_csv('path_to_your_interaction.csv')\n",
    "\n",
    "# For demonstration, let's create dummy data\n",
    "# Assuming these are your numerical columns of interest\n",
    "\n",
    "\n",
    "# Extract the data to be tested\n",
    "group1 = merged_data['minutes']\n",
    "group2 = merged_data['rating']\n",
    "\n",
    "# Perform the F-test\n",
    "f_statistic, p_value = stats.levene(group1, group2)  # Use Levene's test for equality of variances\n",
    "\n",
    "# Display the results\n",
    "print(f\"F-statistic: {f_statistic}\")\n",
    "print(f\"P-value: {p_value}\")\n",
    "\n",
    "# Interpret the results\n",
    "alpha = 0.05  # Significance level\n",
    "if p_value <= alpha:\n",
    "    print(\"Reject the null hypothesis: Variances are significantly different.\")\n",
    "else:\n",
    "    print(\"Accept the null hypothesis: Variances are not significantly different.\")\n"
   ]
  },
  {
   "cell_type": "markdown",
   "metadata": {},
   "source": [
    "### Conclusion : "
   ]
  },
  {
   "cell_type": "markdown",
   "metadata": {},
   "source": [
    "### Wilcox Test "
   ]
  },
  {
   "cell_type": "code",
   "execution_count": 81,
   "metadata": {},
   "outputs": [
    {
     "name": "stdout",
     "output_type": "stream",
     "text": [
      "Wilcoxon Signed-Rank Test Statistic: 590128292.5\n",
      "P-value: 0.0\n",
      "Reject the null hypothesis: There is a significant difference between the two related samples.\n"
     ]
    }
   ],
   "source": [
    "data1 = merged_data['minutes']\n",
    "data2 = merged_data['rating']\n",
    "\n",
    "# Perform Wilcoxon Signed-Rank Test\n",
    "stat, p_value = stats.wilcoxon(data1, data2)\n",
    "\n",
    "print('Wilcoxon Signed-Rank Test Statistic:', stat)\n",
    "print('P-value:', p_value)\n",
    "\n",
    "# Interpretation\n",
    "alpha = 0.05\n",
    "if p_value < alpha:\n",
    "    print(\"Reject the null hypothesis: There is a significant difference between the two related samples.\")\n",
    "else:\n",
    "    print(\"Fail to reject the null hypothesis: There is no significant difference between the two related samples.\")"
   ]
  }
 ],
 "metadata": {
  "kernelspec": {
   "display_name": "venvPROG8431",
   "language": "python",
   "name": "python3"
  },
  "language_info": {
   "codemirror_mode": {
    "name": "ipython",
    "version": 3
   },
   "file_extension": ".py",
   "mimetype": "text/x-python",
   "name": "python",
   "nbconvert_exporter": "python",
   "pygments_lexer": "ipython3",
   "version": "3.12.6"
  }
 },
 "nbformat": 4,
 "nbformat_minor": 2
}
